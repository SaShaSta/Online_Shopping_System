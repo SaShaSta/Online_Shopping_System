{
  "nbformat": 4,
  "nbformat_minor": 0,
  "metadata": {
    "colab": {
      "provenance": []
    },
    "kernelspec": {
      "name": "python3",
      "display_name": "Python 3"
    },
    "language_info": {
      "name": "python"
    }
  },
  "cells": [
    {
      "cell_type": "markdown",
      "source": [
        "**Exercise: Online Shopping System**\n",
        "\n",
        "You are tasked with creating a simplified online shopping system using Python classes. Your system should use  **encapsulation, inheritance, and abstraction** concepts.\n",
        "\n",
        "1)Define a class called **Product** with the following attributes and methods:\n",
        "\n",
        "  *Attributes*(in product (parent class)): **name, price, quantity**\n",
        "\n",
        "  *Methods*(in product (parent class)) :__init__() to initialize the attributes, **get_price()** to return the price, and **get_quantity()** to return the quantity.\n",
        "\n",
        "\n",
        "2)Create a subclass called **Electronics** that **inherits** from the **Product** class. Add an additional attribute called **warranty_period** and a method **get_warranty()** to return the warranty period.\n",
        "\n",
        "\n",
        "3)Define another subclass called **Clothing** that also inherits from the **Product** class. Add an attribute size and a method **get_size()** to return the size of the clothing item.\n",
        "\n",
        "4)Implement encapsulation by making the **name, price, quantity, and size attributes private**. Provide appropriate **getter and setter** methods for these attributes.\n",
        "\n",
        "5)Demonstrate inheritance by creating instances(**objects**) of the **Electronics and Clothing classes.** Use their **methods** to access and display their respective attributes.\n",
        "\n",
        "6)Create a class called **Payment** with an abstract method **process_payment()**. Implement this method in two subclasses **a) CreditCardPayment  b)PaypalPayment.**\n",
        "\n",
        "**This note is for point 6: (Please note that these classes in point 6 are not related to the Product class and its subclasses.(Electronics and Clothing)**\n",
        "\n",
        "     \n",
        "\n",
        "Ensure that only public methods and attributes are accessible outside the class hierarchy."
      ],
      "metadata": {
        "id": "FHamwIIxuxOr"
      }
    },
    {
      "cell_type": "code",
      "execution_count": 1,
      "metadata": {
        "id": "3NQ_JwWquwpd",
        "colab": {
          "base_uri": "https://localhost:8080/"
        },
        "outputId": "38ddfbb5-28fc-44e3-995e-48f6144cb857"
      },
      "outputs": [
        {
          "output_type": "stream",
          "name": "stdout",
          "text": [
            "Product: Laptop, Price: $1200, Quantity: 10, Warranty: 2 years\n",
            "Product: T-Shirt, Price: $20, Quantity: 50, Size: M\n",
            "Processed credit card payment of $1200\n",
            "Processed PayPal payment of $20\n"
          ]
        }
      ],
      "source": [
        "from abc import ABC, abstractmethod\n",
        "\n",
        "# Parent class Product\n",
        "class Product:\n",
        "    def __init__(self, name, price, quantity):\n",
        "        self.__name = name\n",
        "        self.__price = price\n",
        "        self.__quantity = quantity\n",
        "\n",
        "    def get_price(self):\n",
        "        return self.__price\n",
        "\n",
        "    def get_quantity(self):\n",
        "        return self.__quantity\n",
        "\n",
        "    def set_price(self, price):\n",
        "        self.__price = price\n",
        "\n",
        "    def set_quantity(self, quantity):\n",
        "        self.__quantity = quantity\n",
        "\n",
        "    def get_name(self):\n",
        "        return self.__name\n",
        "\n",
        "# Subclass Electronics\n",
        "class Electronics(Product):\n",
        "    def __init__(self, name, price, quantity, warranty_period):\n",
        "        super().__init__(name, price, quantity)\n",
        "        self.__warranty_period = warranty_period\n",
        "\n",
        "    def get_warranty(self):\n",
        "        return self.__warranty_period\n",
        "\n",
        "# Subclass Clothing\n",
        "class Clothing(Product):\n",
        "    def __init__(self, name, price, quantity, size):\n",
        "        super().__init__(name, price, quantity)\n",
        "        self.__size = size\n",
        "\n",
        "    def get_size(self):\n",
        "        return self.__size\n",
        "\n",
        "# Abstract class Payment\n",
        "class Payment(ABC):\n",
        "    @abstractmethod\n",
        "    def process_payment(self, amount):\n",
        "        pass\n",
        "\n",
        "# Subclass CreditCardPayment\n",
        "class CreditCardPayment(Payment):\n",
        "    def process_payment(self, amount):\n",
        "        return f\"Processed credit card payment of ${amount}\"\n",
        "\n",
        "# Subclass PaypalPayment\n",
        "class PaypalPayment(Payment):\n",
        "    def process_payment(self, amount):\n",
        "        return f\"Processed PayPal payment of ${amount}\"\n",
        "\n",
        "if __name__ == \"__main__\":\n",
        "\n",
        "    laptop = Electronics(\"Laptop\", 1200, 10, \"2 years\")\n",
        "    t_shirt = Clothing(\"T-Shirt\", 20, 50, \"M\")\n",
        "\n",
        "    print(f\"Product: {laptop.get_name()}, Price: ${laptop.get_price()}, Quantity: {laptop.get_quantity()}, Warranty: {laptop.get_warranty()}\")\n",
        "    print(f\"Product: {t_shirt.get_name()}, Price: ${t_shirt.get_price()}, Quantity: {t_shirt.get_quantity()}, Size: {t_shirt.get_size()}\")\n",
        "\n",
        "    credit_payment = CreditCardPayment()\n",
        "    paypal_payment = PaypalPayment()\n",
        "\n",
        "    print(credit_payment.process_payment(laptop.get_price()))\n",
        "    print(paypal_payment.process_payment(t_shirt.get_price()))\n"
      ]
    }
  ]
}